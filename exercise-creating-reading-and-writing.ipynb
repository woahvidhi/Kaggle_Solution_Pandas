{
 "cells": [
  {
   "cell_type": "markdown",
   "id": "known-columbus",
   "metadata": {
    "papermill": {
     "duration": 0.018031,
     "end_time": "2021-05-20T06:58:34.425221",
     "exception": false,
     "start_time": "2021-05-20T06:58:34.407190",
     "status": "completed"
    },
    "tags": []
   },
   "source": [
    "**This notebook is an exercise in the [Pandas](https://www.kaggle.com/learn/pandas) course.  You can reference the tutorial at [this link](https://www.kaggle.com/residentmario/creating-reading-and-writing).**\n",
    "\n",
    "---\n"
   ]
  },
  {
   "cell_type": "markdown",
   "id": "distant-national",
   "metadata": {
    "papermill": {
     "duration": 0.016073,
     "end_time": "2021-05-20T06:58:34.458310",
     "exception": false,
     "start_time": "2021-05-20T06:58:34.442237",
     "status": "completed"
    },
    "tags": []
   },
   "source": [
    "# Introduction\n",
    "\n",
    "The first step in most data analytics projects is reading the data file. In this exercise, you'll create Series and DataFrame objects, both by hand and by reading data files.\n",
    "\n",
    "Run the code cell below to load libraries you will need (including code to check your answers)."
   ]
  },
  {
   "cell_type": "code",
   "execution_count": 1,
   "id": "interior-garage",
   "metadata": {
    "execution": {
     "iopub.execute_input": "2021-05-20T06:58:34.500194Z",
     "iopub.status.busy": "2021-05-20T06:58:34.499437Z",
     "iopub.status.idle": "2021-05-20T06:58:36.326048Z",
     "shell.execute_reply": "2021-05-20T06:58:36.326928Z",
     "shell.execute_reply.started": "2021-05-20T06:38:45.632226Z"
    },
    "papermill": {
     "duration": 1.852853,
     "end_time": "2021-05-20T06:58:36.327390",
     "exception": false,
     "start_time": "2021-05-20T06:58:34.474537",
     "status": "completed"
    },
    "tags": []
   },
   "outputs": [
    {
     "name": "stdout",
     "output_type": "stream",
     "text": [
      "Setup complete.\n"
     ]
    }
   ],
   "source": [
    "import pandas as pd\n",
    "pd.set_option('max_rows', 5)\n",
    "from learntools.core import binder; binder.bind(globals())\n",
    "from learntools.pandas.creating_reading_and_writing import *\n",
    "print(\"Setup complete.\")"
   ]
  },
  {
   "cell_type": "markdown",
   "id": "resident-newcastle",
   "metadata": {
    "papermill": {
     "duration": 0.016453,
     "end_time": "2021-05-20T06:58:36.361898",
     "exception": false,
     "start_time": "2021-05-20T06:58:36.345445",
     "status": "completed"
    },
    "tags": []
   },
   "source": [
    "# Exercises"
   ]
  },
  {
   "cell_type": "markdown",
   "id": "hourly-boring",
   "metadata": {
    "papermill": {
     "duration": 0.016663,
     "end_time": "2021-05-20T06:58:36.395369",
     "exception": false,
     "start_time": "2021-05-20T06:58:36.378706",
     "status": "completed"
    },
    "tags": []
   },
   "source": [
    "## 1.\n",
    "\n",
    "In the cell below, create a DataFrame `fruits` that looks like this:\n",
    "\n",
    "![](https://i.imgur.com/Ax3pp2A.png)"
   ]
  },
  {
   "cell_type": "code",
   "execution_count": 2,
   "id": "associate-funeral",
   "metadata": {
    "execution": {
     "iopub.execute_input": "2021-05-20T06:58:36.439599Z",
     "iopub.status.busy": "2021-05-20T06:58:36.438905Z",
     "iopub.status.idle": "2021-05-20T06:58:36.454447Z",
     "shell.execute_reply": "2021-05-20T06:58:36.455043Z",
     "shell.execute_reply.started": "2021-05-20T06:39:00.832954Z"
    },
    "papermill": {
     "duration": 0.04316,
     "end_time": "2021-05-20T06:58:36.455218",
     "exception": false,
     "start_time": "2021-05-20T06:58:36.412058",
     "status": "completed"
    },
    "tags": []
   },
   "outputs": [
    {
     "data": {
      "application/javascript": [
       "parent.postMessage({\"jupyterEvent\": \"custom.exercise_interaction\", \"data\": {\"outcomeType\": 1, \"valueTowardsCompletion\": 0.16666666666666666, \"interactionType\": 1, \"questionType\": 1, \"questionId\": \"1_FruitDfCreation\", \"learnToolsVersion\": \"0.3.4\", \"failureMessage\": \"\", \"exceptionClass\": \"\", \"trace\": \"\"}}, \"*\")"
      ],
      "text/plain": [
       "<IPython.core.display.Javascript object>"
      ]
     },
     "metadata": {},
     "output_type": "display_data"
    },
    {
     "data": {
      "text/markdown": [
       "<span style=\"color:#33cc33\">Correct</span>"
      ],
      "text/plain": [
       "Correct"
      ]
     },
     "metadata": {},
     "output_type": "display_data"
    },
    {
     "data": {
      "text/html": [
       "<div>\n",
       "<style scoped>\n",
       "    .dataframe tbody tr th:only-of-type {\n",
       "        vertical-align: middle;\n",
       "    }\n",
       "\n",
       "    .dataframe tbody tr th {\n",
       "        vertical-align: top;\n",
       "    }\n",
       "\n",
       "    .dataframe thead th {\n",
       "        text-align: right;\n",
       "    }\n",
       "</style>\n",
       "<table border=\"1\" class=\"dataframe\">\n",
       "  <thead>\n",
       "    <tr style=\"text-align: right;\">\n",
       "      <th></th>\n",
       "      <th>Apples</th>\n",
       "      <th>Bananas</th>\n",
       "    </tr>\n",
       "  </thead>\n",
       "  <tbody>\n",
       "    <tr>\n",
       "      <th>0</th>\n",
       "      <td>30</td>\n",
       "      <td>21</td>\n",
       "    </tr>\n",
       "  </tbody>\n",
       "</table>\n",
       "</div>"
      ],
      "text/plain": [
       "   Apples  Bananas\n",
       "0      30       21"
      ]
     },
     "execution_count": 2,
     "metadata": {},
     "output_type": "execute_result"
    }
   ],
   "source": [
    "# Your code goes here. Create a dataframe matching the above diagram and assign it to the variable fruits.\n",
    "fruits = pd.DataFrame({'Apples':[30], 'Bananas':[21]})\n",
    "\n",
    "# Check your answer\n",
    "q1.check()\n",
    "fruits"
   ]
  },
  {
   "cell_type": "code",
   "execution_count": null,
   "id": "blond-platinum",
   "metadata": {
    "papermill": {
     "duration": 0.017459,
     "end_time": "2021-05-20T06:58:36.490520",
     "exception": false,
     "start_time": "2021-05-20T06:58:36.473061",
     "status": "completed"
    },
    "tags": []
   },
   "outputs": [],
   "source": []
  },
  {
   "cell_type": "code",
   "execution_count": 3,
   "id": "pacific-welsh",
   "metadata": {
    "execution": {
     "iopub.execute_input": "2021-05-20T06:58:36.529675Z",
     "iopub.status.busy": "2021-05-20T06:58:36.529080Z",
     "iopub.status.idle": "2021-05-20T06:58:36.532146Z",
     "shell.execute_reply": "2021-05-20T06:58:36.532716Z"
    },
    "papermill": {
     "duration": 0.024522,
     "end_time": "2021-05-20T06:58:36.532893",
     "exception": false,
     "start_time": "2021-05-20T06:58:36.508371",
     "status": "completed"
    },
    "tags": []
   },
   "outputs": [],
   "source": [
    "#q1.hint()\n",
    "#q1.solution()"
   ]
  },
  {
   "cell_type": "markdown",
   "id": "invisible-consensus",
   "metadata": {
    "papermill": {
     "duration": 0.017915,
     "end_time": "2021-05-20T06:58:36.568674",
     "exception": false,
     "start_time": "2021-05-20T06:58:36.550759",
     "status": "completed"
    },
    "tags": []
   },
   "source": [
    "## 2.\n",
    "\n",
    "Create a dataframe `fruit_sales` that matches the diagram below:\n",
    "\n",
    "![](https://i.imgur.com/CHPn7ZF.png)"
   ]
  },
  {
   "cell_type": "code",
   "execution_count": 4,
   "id": "freelance-possible",
   "metadata": {
    "execution": {
     "iopub.execute_input": "2021-05-20T06:58:36.612211Z",
     "iopub.status.busy": "2021-05-20T06:58:36.611502Z",
     "iopub.status.idle": "2021-05-20T06:58:36.621281Z",
     "shell.execute_reply": "2021-05-20T06:58:36.621861Z",
     "shell.execute_reply.started": "2021-05-20T06:43:23.659238Z"
    },
    "papermill": {
     "duration": 0.035407,
     "end_time": "2021-05-20T06:58:36.622074",
     "exception": false,
     "start_time": "2021-05-20T06:58:36.586667",
     "status": "completed"
    },
    "tags": []
   },
   "outputs": [
    {
     "data": {
      "application/javascript": [
       "parent.postMessage({\"jupyterEvent\": \"custom.exercise_interaction\", \"data\": {\"outcomeType\": 1, \"valueTowardsCompletion\": 0.16666666666666666, \"interactionType\": 1, \"questionType\": 1, \"questionId\": \"2_FruitSalesDfCreation\", \"learnToolsVersion\": \"0.3.4\", \"failureMessage\": \"\", \"exceptionClass\": \"\", \"trace\": \"\"}}, \"*\")"
      ],
      "text/plain": [
       "<IPython.core.display.Javascript object>"
      ]
     },
     "metadata": {},
     "output_type": "display_data"
    },
    {
     "data": {
      "text/markdown": [
       "<span style=\"color:#33cc33\">Correct</span>"
      ],
      "text/plain": [
       "Correct"
      ]
     },
     "metadata": {},
     "output_type": "display_data"
    },
    {
     "data": {
      "text/html": [
       "<div>\n",
       "<style scoped>\n",
       "    .dataframe tbody tr th:only-of-type {\n",
       "        vertical-align: middle;\n",
       "    }\n",
       "\n",
       "    .dataframe tbody tr th {\n",
       "        vertical-align: top;\n",
       "    }\n",
       "\n",
       "    .dataframe thead th {\n",
       "        text-align: right;\n",
       "    }\n",
       "</style>\n",
       "<table border=\"1\" class=\"dataframe\">\n",
       "  <thead>\n",
       "    <tr style=\"text-align: right;\">\n",
       "      <th></th>\n",
       "      <th>Apples</th>\n",
       "      <th>Bananas</th>\n",
       "    </tr>\n",
       "  </thead>\n",
       "  <tbody>\n",
       "    <tr>\n",
       "      <th>2017 Sales</th>\n",
       "      <td>35</td>\n",
       "      <td>21</td>\n",
       "    </tr>\n",
       "    <tr>\n",
       "      <th>2018 Sales</th>\n",
       "      <td>41</td>\n",
       "      <td>34</td>\n",
       "    </tr>\n",
       "  </tbody>\n",
       "</table>\n",
       "</div>"
      ],
      "text/plain": [
       "            Apples  Bananas\n",
       "2017 Sales      35       21\n",
       "2018 Sales      41       34"
      ]
     },
     "execution_count": 4,
     "metadata": {},
     "output_type": "execute_result"
    }
   ],
   "source": [
    "# Your code goes here. Create a dataframe matching the above diagram and assign it to the variable fruit_sales.\n",
    "fruit_sales = pd.DataFrame({'Apples':[35,41],'Bananas':[21,34]},index=['2017 Sales','2018 Sales'])\n",
    "\n",
    "# Check your answer\n",
    "q2.check()\n",
    "fruit_sales"
   ]
  },
  {
   "cell_type": "code",
   "execution_count": 5,
   "id": "nutritional-receptor",
   "metadata": {
    "execution": {
     "iopub.execute_input": "2021-05-20T06:58:36.665668Z",
     "iopub.status.busy": "2021-05-20T06:58:36.665020Z",
     "iopub.status.idle": "2021-05-20T06:58:36.668108Z",
     "shell.execute_reply": "2021-05-20T06:58:36.668603Z"
    },
    "papermill": {
     "duration": 0.026775,
     "end_time": "2021-05-20T06:58:36.668779",
     "exception": false,
     "start_time": "2021-05-20T06:58:36.642004",
     "status": "completed"
    },
    "tags": []
   },
   "outputs": [],
   "source": [
    "#q2.hint()\n",
    "#q2.solution()"
   ]
  },
  {
   "cell_type": "markdown",
   "id": "cellular-representation",
   "metadata": {
    "papermill": {
     "duration": 0.019742,
     "end_time": "2021-05-20T06:58:36.708638",
     "exception": false,
     "start_time": "2021-05-20T06:58:36.688896",
     "status": "completed"
    },
    "tags": []
   },
   "source": [
    "## 3.\n",
    "\n",
    "Create a variable `ingredients` with a Series that looks like:\n",
    "\n",
    "```\n",
    "Flour     4 cups\n",
    "Milk       1 cup\n",
    "Eggs     2 large\n",
    "Spam       1 can\n",
    "Name: Dinner, dtype: object\n",
    "```"
   ]
  },
  {
   "cell_type": "code",
   "execution_count": 6,
   "id": "excessive-citizen",
   "metadata": {
    "execution": {
     "iopub.execute_input": "2021-05-20T06:58:36.752469Z",
     "iopub.status.busy": "2021-05-20T06:58:36.751880Z",
     "iopub.status.idle": "2021-05-20T06:58:36.763501Z",
     "shell.execute_reply": "2021-05-20T06:58:36.762908Z",
     "shell.execute_reply.started": "2021-05-20T06:45:00.156848Z"
    },
    "papermill": {
     "duration": 0.034568,
     "end_time": "2021-05-20T06:58:36.763641",
     "exception": false,
     "start_time": "2021-05-20T06:58:36.729073",
     "status": "completed"
    },
    "tags": []
   },
   "outputs": [
    {
     "data": {
      "application/javascript": [
       "parent.postMessage({\"jupyterEvent\": \"custom.exercise_interaction\", \"data\": {\"outcomeType\": 1, \"valueTowardsCompletion\": 0.16666666666666666, \"interactionType\": 1, \"questionType\": 2, \"questionId\": \"3_RecipeSeriesCreation\", \"learnToolsVersion\": \"0.3.4\", \"failureMessage\": \"\", \"exceptionClass\": \"\", \"trace\": \"\"}}, \"*\")"
      ],
      "text/plain": [
       "<IPython.core.display.Javascript object>"
      ]
     },
     "metadata": {},
     "output_type": "display_data"
    },
    {
     "data": {
      "text/markdown": [
       "<span style=\"color:#33cc33\">Correct</span>"
      ],
      "text/plain": [
       "Correct"
      ]
     },
     "metadata": {},
     "output_type": "display_data"
    },
    {
     "data": {
      "text/plain": [
       "Flour     4 cups\n",
       "Milk       1 cup\n",
       "Eggs     2 large\n",
       "Spam       1 can\n",
       "Name: Dinner, dtype: object"
      ]
     },
     "execution_count": 6,
     "metadata": {},
     "output_type": "execute_result"
    }
   ],
   "source": [
    "ingredients = pd.Series(['4 cups','1 cup', '2 large','1 can'], index=['Flour','Milk','Eggs','Spam'], name='Dinner')\n",
    "\n",
    "# Check your answer\n",
    "q3.check()\n",
    "ingredients"
   ]
  },
  {
   "cell_type": "code",
   "execution_count": 7,
   "id": "pregnant-orientation",
   "metadata": {
    "execution": {
     "iopub.execute_input": "2021-05-20T06:58:36.811581Z",
     "iopub.status.busy": "2021-05-20T06:58:36.810498Z",
     "iopub.status.idle": "2021-05-20T06:58:36.812865Z",
     "shell.execute_reply": "2021-05-20T06:58:36.813331Z"
    },
    "papermill": {
     "duration": 0.028951,
     "end_time": "2021-05-20T06:58:36.813525",
     "exception": false,
     "start_time": "2021-05-20T06:58:36.784574",
     "status": "completed"
    },
    "tags": []
   },
   "outputs": [],
   "source": [
    "#q3.hint()\n",
    "#q3.solution()"
   ]
  },
  {
   "cell_type": "markdown",
   "id": "collected-elite",
   "metadata": {
    "papermill": {
     "duration": 0.021257,
     "end_time": "2021-05-20T06:58:36.856354",
     "exception": false,
     "start_time": "2021-05-20T06:58:36.835097",
     "status": "completed"
    },
    "tags": []
   },
   "source": [
    "## 4.\n",
    "\n",
    "Read the following csv dataset of wine reviews into a DataFrame called `reviews`:\n",
    "\n",
    "![](https://i.imgur.com/74RCZtU.png)\n",
    "\n",
    "The filepath to the csv file is `../input/wine-reviews/winemag-data_first150k.csv`. The first few lines look like:\n",
    "\n",
    "```\n",
    ",country,description,designation,points,price,province,region_1,region_2,variety,winery\n",
    "0,US,\"This tremendous 100% varietal wine[...]\",Martha's Vineyard,96,235.0,California,Napa Valley,Napa,Cabernet Sauvignon,Heitz\n",
    "1,Spain,\"Ripe aromas of fig, blackberry and[...]\",Carodorum Selección Especial Reserva,96,110.0,Northern Spain,Toro,,Tinta de Toro,Bodega Carmen Rodríguez\n",
    "```"
   ]
  },
  {
   "cell_type": "markdown",
   "id": "designing-factor",
   "metadata": {
    "papermill": {
     "duration": 0.020882,
     "end_time": "2021-05-20T06:58:36.898590",
     "exception": false,
     "start_time": "2021-05-20T06:58:36.877708",
     "status": "completed"
    },
    "tags": []
   },
   "source": []
  },
  {
   "cell_type": "code",
   "execution_count": 8,
   "id": "oriental-culture",
   "metadata": {
    "execution": {
     "iopub.execute_input": "2021-05-20T06:58:36.946711Z",
     "iopub.status.busy": "2021-05-20T06:58:36.945742Z",
     "iopub.status.idle": "2021-05-20T06:58:37.972588Z",
     "shell.execute_reply": "2021-05-20T06:58:37.972037Z",
     "shell.execute_reply.started": "2021-05-20T06:48:01.462495Z"
    },
    "papermill": {
     "duration": 1.052061,
     "end_time": "2021-05-20T06:58:37.972752",
     "exception": false,
     "start_time": "2021-05-20T06:58:36.920691",
     "status": "completed"
    },
    "tags": []
   },
   "outputs": [
    {
     "data": {
      "application/javascript": [
       "parent.postMessage({\"jupyterEvent\": \"custom.exercise_interaction\", \"data\": {\"outcomeType\": 1, \"valueTowardsCompletion\": 0.16666666666666666, \"interactionType\": 1, \"questionType\": 1, \"questionId\": \"4_ReadWineCsv\", \"learnToolsVersion\": \"0.3.4\", \"failureMessage\": \"\", \"exceptionClass\": \"\", \"trace\": \"\"}}, \"*\")"
      ],
      "text/plain": [
       "<IPython.core.display.Javascript object>"
      ]
     },
     "metadata": {},
     "output_type": "display_data"
    },
    {
     "data": {
      "text/markdown": [
       "<span style=\"color:#33cc33\">Correct</span>"
      ],
      "text/plain": [
       "Correct"
      ]
     },
     "metadata": {},
     "output_type": "display_data"
    },
    {
     "data": {
      "text/html": [
       "<div>\n",
       "<style scoped>\n",
       "    .dataframe tbody tr th:only-of-type {\n",
       "        vertical-align: middle;\n",
       "    }\n",
       "\n",
       "    .dataframe tbody tr th {\n",
       "        vertical-align: top;\n",
       "    }\n",
       "\n",
       "    .dataframe thead th {\n",
       "        text-align: right;\n",
       "    }\n",
       "</style>\n",
       "<table border=\"1\" class=\"dataframe\">\n",
       "  <thead>\n",
       "    <tr style=\"text-align: right;\">\n",
       "      <th></th>\n",
       "      <th>country</th>\n",
       "      <th>description</th>\n",
       "      <th>designation</th>\n",
       "      <th>points</th>\n",
       "      <th>price</th>\n",
       "      <th>province</th>\n",
       "      <th>region_1</th>\n",
       "      <th>region_2</th>\n",
       "      <th>variety</th>\n",
       "      <th>winery</th>\n",
       "    </tr>\n",
       "  </thead>\n",
       "  <tbody>\n",
       "    <tr>\n",
       "      <th>0</th>\n",
       "      <td>US</td>\n",
       "      <td>This tremendous 100% varietal wine hails from ...</td>\n",
       "      <td>Martha's Vineyard</td>\n",
       "      <td>96</td>\n",
       "      <td>235.0</td>\n",
       "      <td>California</td>\n",
       "      <td>Napa Valley</td>\n",
       "      <td>Napa</td>\n",
       "      <td>Cabernet Sauvignon</td>\n",
       "      <td>Heitz</td>\n",
       "    </tr>\n",
       "    <tr>\n",
       "      <th>1</th>\n",
       "      <td>Spain</td>\n",
       "      <td>Ripe aromas of fig, blackberry and cassis are ...</td>\n",
       "      <td>Carodorum Selección Especial Reserva</td>\n",
       "      <td>96</td>\n",
       "      <td>110.0</td>\n",
       "      <td>Northern Spain</td>\n",
       "      <td>Toro</td>\n",
       "      <td>NaN</td>\n",
       "      <td>Tinta de Toro</td>\n",
       "      <td>Bodega Carmen Rodríguez</td>\n",
       "    </tr>\n",
       "    <tr>\n",
       "      <th>...</th>\n",
       "      <td>...</td>\n",
       "      <td>...</td>\n",
       "      <td>...</td>\n",
       "      <td>...</td>\n",
       "      <td>...</td>\n",
       "      <td>...</td>\n",
       "      <td>...</td>\n",
       "      <td>...</td>\n",
       "      <td>...</td>\n",
       "      <td>...</td>\n",
       "    </tr>\n",
       "    <tr>\n",
       "      <th>150928</th>\n",
       "      <td>France</td>\n",
       "      <td>A perfect salmon shade, with scents of peaches...</td>\n",
       "      <td>Grand Brut Rosé</td>\n",
       "      <td>90</td>\n",
       "      <td>52.0</td>\n",
       "      <td>Champagne</td>\n",
       "      <td>Champagne</td>\n",
       "      <td>NaN</td>\n",
       "      <td>Champagne Blend</td>\n",
       "      <td>Gosset</td>\n",
       "    </tr>\n",
       "    <tr>\n",
       "      <th>150929</th>\n",
       "      <td>Italy</td>\n",
       "      <td>More Pinot Grigios should taste like this. A r...</td>\n",
       "      <td>NaN</td>\n",
       "      <td>90</td>\n",
       "      <td>15.0</td>\n",
       "      <td>Northeastern Italy</td>\n",
       "      <td>Alto Adige</td>\n",
       "      <td>NaN</td>\n",
       "      <td>Pinot Grigio</td>\n",
       "      <td>Alois Lageder</td>\n",
       "    </tr>\n",
       "  </tbody>\n",
       "</table>\n",
       "<p>150930 rows × 10 columns</p>\n",
       "</div>"
      ],
      "text/plain": [
       "       country                                        description  \\\n",
       "0           US  This tremendous 100% varietal wine hails from ...   \n",
       "1        Spain  Ripe aromas of fig, blackberry and cassis are ...   \n",
       "...        ...                                                ...   \n",
       "150928  France  A perfect salmon shade, with scents of peaches...   \n",
       "150929   Italy  More Pinot Grigios should taste like this. A r...   \n",
       "\n",
       "                                 designation  points  price  \\\n",
       "0                          Martha's Vineyard      96  235.0   \n",
       "1       Carodorum Selección Especial Reserva      96  110.0   \n",
       "...                                      ...     ...    ...   \n",
       "150928                       Grand Brut Rosé      90   52.0   \n",
       "150929                                   NaN      90   15.0   \n",
       "\n",
       "                  province     region_1 region_2             variety  \\\n",
       "0               California  Napa Valley     Napa  Cabernet Sauvignon   \n",
       "1           Northern Spain         Toro      NaN       Tinta de Toro   \n",
       "...                    ...          ...      ...                 ...   \n",
       "150928           Champagne    Champagne      NaN     Champagne Blend   \n",
       "150929  Northeastern Italy   Alto Adige      NaN        Pinot Grigio   \n",
       "\n",
       "                         winery  \n",
       "0                         Heitz  \n",
       "1       Bodega Carmen Rodríguez  \n",
       "...                         ...  \n",
       "150928                   Gosset  \n",
       "150929            Alois Lageder  \n",
       "\n",
       "[150930 rows x 10 columns]"
      ]
     },
     "execution_count": 8,
     "metadata": {},
     "output_type": "execute_result"
    }
   ],
   "source": [
    "reviews = pd.read_csv(\"../input/wine-reviews/winemag-data_first150k.csv\",index_col=0)\n",
    "\n",
    "# Check your answer\n",
    "q4.check()\n",
    "reviews"
   ]
  },
  {
   "cell_type": "code",
   "execution_count": 9,
   "id": "willing-fountain",
   "metadata": {
    "execution": {
     "iopub.execute_input": "2021-05-20T06:58:38.023887Z",
     "iopub.status.busy": "2021-05-20T06:58:38.023222Z",
     "iopub.status.idle": "2021-05-20T06:58:38.026373Z",
     "shell.execute_reply": "2021-05-20T06:58:38.025725Z"
    },
    "papermill": {
     "duration": 0.03063,
     "end_time": "2021-05-20T06:58:38.026528",
     "exception": false,
     "start_time": "2021-05-20T06:58:37.995898",
     "status": "completed"
    },
    "tags": []
   },
   "outputs": [],
   "source": [
    "#q4.hint()\n",
    "#q4.solution()"
   ]
  },
  {
   "cell_type": "markdown",
   "id": "entertaining-medicaid",
   "metadata": {
    "papermill": {
     "duration": 0.023513,
     "end_time": "2021-05-20T06:58:38.073460",
     "exception": false,
     "start_time": "2021-05-20T06:58:38.049947",
     "status": "completed"
    },
    "tags": []
   },
   "source": [
    "## 5.\n",
    "\n",
    "Run the cell below to create and display a DataFrame called `animals`:"
   ]
  },
  {
   "cell_type": "code",
   "execution_count": 10,
   "id": "confirmed-spencer",
   "metadata": {
    "execution": {
     "iopub.execute_input": "2021-05-20T06:58:38.131411Z",
     "iopub.status.busy": "2021-05-20T06:58:38.130693Z",
     "iopub.status.idle": "2021-05-20T06:58:38.135455Z",
     "shell.execute_reply": "2021-05-20T06:58:38.134910Z",
     "shell.execute_reply.started": "2021-05-20T06:48:42.077826Z"
    },
    "papermill": {
     "duration": 0.038877,
     "end_time": "2021-05-20T06:58:38.135609",
     "exception": false,
     "start_time": "2021-05-20T06:58:38.096732",
     "status": "completed"
    },
    "tags": []
   },
   "outputs": [
    {
     "data": {
      "text/html": [
       "<div>\n",
       "<style scoped>\n",
       "    .dataframe tbody tr th:only-of-type {\n",
       "        vertical-align: middle;\n",
       "    }\n",
       "\n",
       "    .dataframe tbody tr th {\n",
       "        vertical-align: top;\n",
       "    }\n",
       "\n",
       "    .dataframe thead th {\n",
       "        text-align: right;\n",
       "    }\n",
       "</style>\n",
       "<table border=\"1\" class=\"dataframe\">\n",
       "  <thead>\n",
       "    <tr style=\"text-align: right;\">\n",
       "      <th></th>\n",
       "      <th>Cows</th>\n",
       "      <th>Goats</th>\n",
       "    </tr>\n",
       "  </thead>\n",
       "  <tbody>\n",
       "    <tr>\n",
       "      <th>Year 1</th>\n",
       "      <td>12</td>\n",
       "      <td>22</td>\n",
       "    </tr>\n",
       "    <tr>\n",
       "      <th>Year 2</th>\n",
       "      <td>20</td>\n",
       "      <td>19</td>\n",
       "    </tr>\n",
       "  </tbody>\n",
       "</table>\n",
       "</div>"
      ],
      "text/plain": [
       "        Cows  Goats\n",
       "Year 1    12     22\n",
       "Year 2    20     19"
      ]
     },
     "execution_count": 10,
     "metadata": {},
     "output_type": "execute_result"
    }
   ],
   "source": [
    "animals = pd.DataFrame({'Cows': [12, 20], 'Goats': [22, 19]}, index=['Year 1', 'Year 2'])\n",
    "animals.head()"
   ]
  },
  {
   "cell_type": "markdown",
   "id": "executed-outreach",
   "metadata": {
    "papermill": {
     "duration": 0.022991,
     "end_time": "2021-05-20T06:58:38.182044",
     "exception": false,
     "start_time": "2021-05-20T06:58:38.159053",
     "status": "completed"
    },
    "tags": []
   },
   "source": [
    "In the cell below, write code to save this DataFrame to disk as a csv file with the name `cows_and_goats.csv`."
   ]
  },
  {
   "cell_type": "code",
   "execution_count": 11,
   "id": "dried-picking",
   "metadata": {
    "execution": {
     "iopub.execute_input": "2021-05-20T06:58:38.232195Z",
     "iopub.status.busy": "2021-05-20T06:58:38.231589Z",
     "iopub.status.idle": "2021-05-20T06:58:38.244155Z",
     "shell.execute_reply": "2021-05-20T06:58:38.244749Z",
     "shell.execute_reply.started": "2021-05-20T06:57:55.635712Z"
    },
    "papermill": {
     "duration": 0.039534,
     "end_time": "2021-05-20T06:58:38.244961",
     "exception": false,
     "start_time": "2021-05-20T06:58:38.205427",
     "status": "completed"
    },
    "tags": []
   },
   "outputs": [
    {
     "data": {
      "application/javascript": [
       "parent.postMessage({\"jupyterEvent\": \"custom.exercise_interaction\", \"data\": {\"outcomeType\": 1, \"valueTowardsCompletion\": 0.16666666666666666, \"interactionType\": 1, \"questionType\": 2, \"questionId\": \"5_SaveAnimalsCsv\", \"learnToolsVersion\": \"0.3.4\", \"failureMessage\": \"\", \"exceptionClass\": \"\", \"trace\": \"\"}}, \"*\")"
      ],
      "text/plain": [
       "<IPython.core.display.Javascript object>"
      ]
     },
     "metadata": {},
     "output_type": "display_data"
    },
    {
     "data": {
      "text/markdown": [
       "<span style=\"color:#33cc33\">Correct</span>"
      ],
      "text/plain": [
       "Correct"
      ]
     },
     "metadata": {},
     "output_type": "display_data"
    }
   ],
   "source": [
    "# Your code goes here\n",
    "animals.to_csv('cows_and_goats.csv')\n",
    "# Check your answer\n",
    "q5.check()"
   ]
  },
  {
   "cell_type": "code",
   "execution_count": 12,
   "id": "committed-jones",
   "metadata": {
    "execution": {
     "iopub.execute_input": "2021-05-20T06:58:38.296973Z",
     "iopub.status.busy": "2021-05-20T06:58:38.296331Z",
     "iopub.status.idle": "2021-05-20T06:58:38.299990Z",
     "shell.execute_reply": "2021-05-20T06:58:38.300483Z",
     "shell.execute_reply.started": "2021-05-20T06:50:39.841627Z"
    },
    "papermill": {
     "duration": 0.031303,
     "end_time": "2021-05-20T06:58:38.300681",
     "exception": false,
     "start_time": "2021-05-20T06:58:38.269378",
     "status": "completed"
    },
    "tags": []
   },
   "outputs": [],
   "source": [
    "#q5.hint()\n",
    "#q5.solution()"
   ]
  },
  {
   "cell_type": "markdown",
   "id": "arabic-wichita",
   "metadata": {
    "papermill": {
     "duration": 0.024097,
     "end_time": "2021-05-20T06:58:38.349727",
     "exception": false,
     "start_time": "2021-05-20T06:58:38.325630",
     "status": "completed"
    },
    "tags": []
   },
   "source": [
    "# Keep going\n",
    "\n",
    "Move on to learn about **[indexing, selecting and assigning](https://www.kaggle.com/residentmario/indexing-selecting-assigning)**."
   ]
  },
  {
   "cell_type": "markdown",
   "id": "worse-arrival",
   "metadata": {
    "papermill": {
     "duration": 0.024006,
     "end_time": "2021-05-20T06:58:38.398420",
     "exception": false,
     "start_time": "2021-05-20T06:58:38.374414",
     "status": "completed"
    },
    "tags": []
   },
   "source": [
    "---\n",
    "\n",
    "\n",
    "\n",
    "\n",
    "*Have questions or comments? Visit the [Learn Discussion forum](https://www.kaggle.com/learn-forum/161299) to chat with other Learners.*"
   ]
  }
 ],
 "metadata": {
  "kernelspec": {
   "display_name": "Python 3",
   "language": "python",
   "name": "python3"
  },
  "language_info": {
   "codemirror_mode": {
    "name": "ipython",
    "version": 3
   },
   "file_extension": ".py",
   "mimetype": "text/x-python",
   "name": "python",
   "nbconvert_exporter": "python",
   "pygments_lexer": "ipython3",
   "version": "3.7.9"
  },
  "papermill": {
   "default_parameters": {},
   "duration": 11.083108,
   "end_time": "2021-05-20T06:58:39.234836",
   "environment_variables": {},
   "exception": null,
   "input_path": "__notebook__.ipynb",
   "output_path": "__notebook__.ipynb",
   "parameters": {},
   "start_time": "2021-05-20T06:58:28.151728",
   "version": "2.3.2"
  }
 },
 "nbformat": 4,
 "nbformat_minor": 5
}
